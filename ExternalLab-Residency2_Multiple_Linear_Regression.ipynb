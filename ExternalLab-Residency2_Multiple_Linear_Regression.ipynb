{
 "cells": [
  {
   "cell_type": "markdown",
   "metadata": {},
   "source": [
    "# External Lab \n",
    "\n",
    "Here each question is of 1 mark."
   ]
  },
  {
   "cell_type": "markdown",
   "metadata": {},
   "source": [
    "# Multiple Linear Regression\n",
    "\n",
    "## Problem Statement\n",
    "\n",
    "Use Multiple Linear Regression to **predict the consumption of petrol** given relevant variables are the petrol tax, the per capita, income, the number of miles of paved highway, and the proportion of the population with driver's licenses.\n",
    "\n",
    "## Dataset\n",
    "\n",
    "There are 48 rows of data.  The data include:\n",
    "\n",
    "      I,  the index;\n",
    "      A1, the petrol tax;\n",
    "      A2, the per capita income;\n",
    "      A3, the number of miles of paved highway;\n",
    "      A4, the proportion of drivers;\n",
    "      B,  the consumption of petrol.\n",
    "\n",
    "### Reference \n",
    "\n",
    "    Helmut Spaeth,\n",
    "    Mathematical Algorithms for Linear Regression,\n",
    "    Academic Press, 1991,\n",
    "    ISBN 0-12-656460-4.\n",
    "\n",
    "    S Weisberg,\n",
    "    Applied Linear Regression,\n",
    "    New York, 1980, pages 32-33.\n",
    "\n",
    "## Question 1 - Exploratory Data Analysis\n",
    "\n",
    "*Read the dataset given in file named **'petrol.csv'**. Check the statistical details of the dataset.*\n",
    "\n",
    "**Hint:** You can use **df.describe()**"
   ]
  },
  {
   "cell_type": "code",
   "execution_count": 208,
   "metadata": {},
   "outputs": [
    {
     "data": {
      "text/html": [
       "<div>\n",
       "<style scoped>\n",
       "    .dataframe tbody tr th:only-of-type {\n",
       "        vertical-align: middle;\n",
       "    }\n",
       "\n",
       "    .dataframe tbody tr th {\n",
       "        vertical-align: top;\n",
       "    }\n",
       "\n",
       "    .dataframe thead th {\n",
       "        text-align: right;\n",
       "    }\n",
       "</style>\n",
       "<table border=\"1\" class=\"dataframe\">\n",
       "  <thead>\n",
       "    <tr style=\"text-align: right;\">\n",
       "      <th></th>\n",
       "      <th>tax</th>\n",
       "      <th>income</th>\n",
       "      <th>highway</th>\n",
       "      <th>dl</th>\n",
       "      <th>consumption</th>\n",
       "    </tr>\n",
       "  </thead>\n",
       "  <tbody>\n",
       "    <tr>\n",
       "      <th>0</th>\n",
       "      <td>9.00</td>\n",
       "      <td>3571</td>\n",
       "      <td>1976</td>\n",
       "      <td>0.525</td>\n",
       "      <td>541</td>\n",
       "    </tr>\n",
       "    <tr>\n",
       "      <th>1</th>\n",
       "      <td>9.00</td>\n",
       "      <td>4092</td>\n",
       "      <td>1250</td>\n",
       "      <td>0.572</td>\n",
       "      <td>524</td>\n",
       "    </tr>\n",
       "    <tr>\n",
       "      <th>2</th>\n",
       "      <td>9.00</td>\n",
       "      <td>3865</td>\n",
       "      <td>1586</td>\n",
       "      <td>0.580</td>\n",
       "      <td>561</td>\n",
       "    </tr>\n",
       "    <tr>\n",
       "      <th>3</th>\n",
       "      <td>7.50</td>\n",
       "      <td>4870</td>\n",
       "      <td>2351</td>\n",
       "      <td>0.529</td>\n",
       "      <td>414</td>\n",
       "    </tr>\n",
       "    <tr>\n",
       "      <th>4</th>\n",
       "      <td>8.00</td>\n",
       "      <td>4399</td>\n",
       "      <td>431</td>\n",
       "      <td>0.544</td>\n",
       "      <td>410</td>\n",
       "    </tr>\n",
       "    <tr>\n",
       "      <th>5</th>\n",
       "      <td>10.00</td>\n",
       "      <td>5342</td>\n",
       "      <td>1333</td>\n",
       "      <td>0.571</td>\n",
       "      <td>457</td>\n",
       "    </tr>\n",
       "    <tr>\n",
       "      <th>6</th>\n",
       "      <td>8.00</td>\n",
       "      <td>5319</td>\n",
       "      <td>11868</td>\n",
       "      <td>0.451</td>\n",
       "      <td>344</td>\n",
       "    </tr>\n",
       "    <tr>\n",
       "      <th>7</th>\n",
       "      <td>8.00</td>\n",
       "      <td>5126</td>\n",
       "      <td>2138</td>\n",
       "      <td>0.553</td>\n",
       "      <td>467</td>\n",
       "    </tr>\n",
       "    <tr>\n",
       "      <th>8</th>\n",
       "      <td>8.00</td>\n",
       "      <td>4447</td>\n",
       "      <td>8577</td>\n",
       "      <td>0.529</td>\n",
       "      <td>464</td>\n",
       "    </tr>\n",
       "    <tr>\n",
       "      <th>9</th>\n",
       "      <td>7.00</td>\n",
       "      <td>4512</td>\n",
       "      <td>8507</td>\n",
       "      <td>0.552</td>\n",
       "      <td>498</td>\n",
       "    </tr>\n",
       "    <tr>\n",
       "      <th>10</th>\n",
       "      <td>8.00</td>\n",
       "      <td>4391</td>\n",
       "      <td>5939</td>\n",
       "      <td>0.530</td>\n",
       "      <td>580</td>\n",
       "    </tr>\n",
       "    <tr>\n",
       "      <th>11</th>\n",
       "      <td>7.50</td>\n",
       "      <td>5126</td>\n",
       "      <td>14186</td>\n",
       "      <td>0.525</td>\n",
       "      <td>471</td>\n",
       "    </tr>\n",
       "    <tr>\n",
       "      <th>12</th>\n",
       "      <td>7.00</td>\n",
       "      <td>4817</td>\n",
       "      <td>6930</td>\n",
       "      <td>0.574</td>\n",
       "      <td>525</td>\n",
       "    </tr>\n",
       "    <tr>\n",
       "      <th>13</th>\n",
       "      <td>7.00</td>\n",
       "      <td>4207</td>\n",
       "      <td>6580</td>\n",
       "      <td>0.545</td>\n",
       "      <td>508</td>\n",
       "    </tr>\n",
       "    <tr>\n",
       "      <th>14</th>\n",
       "      <td>7.00</td>\n",
       "      <td>4332</td>\n",
       "      <td>8159</td>\n",
       "      <td>0.608</td>\n",
       "      <td>566</td>\n",
       "    </tr>\n",
       "    <tr>\n",
       "      <th>15</th>\n",
       "      <td>7.00</td>\n",
       "      <td>4318</td>\n",
       "      <td>10340</td>\n",
       "      <td>0.586</td>\n",
       "      <td>635</td>\n",
       "    </tr>\n",
       "    <tr>\n",
       "      <th>16</th>\n",
       "      <td>7.00</td>\n",
       "      <td>4206</td>\n",
       "      <td>8508</td>\n",
       "      <td>0.572</td>\n",
       "      <td>603</td>\n",
       "    </tr>\n",
       "    <tr>\n",
       "      <th>17</th>\n",
       "      <td>7.00</td>\n",
       "      <td>3718</td>\n",
       "      <td>4725</td>\n",
       "      <td>0.540</td>\n",
       "      <td>714</td>\n",
       "    </tr>\n",
       "    <tr>\n",
       "      <th>18</th>\n",
       "      <td>7.00</td>\n",
       "      <td>4716</td>\n",
       "      <td>5915</td>\n",
       "      <td>0.724</td>\n",
       "      <td>865</td>\n",
       "    </tr>\n",
       "    <tr>\n",
       "      <th>19</th>\n",
       "      <td>8.50</td>\n",
       "      <td>4341</td>\n",
       "      <td>6010</td>\n",
       "      <td>0.677</td>\n",
       "      <td>640</td>\n",
       "    </tr>\n",
       "    <tr>\n",
       "      <th>20</th>\n",
       "      <td>7.00</td>\n",
       "      <td>4593</td>\n",
       "      <td>7834</td>\n",
       "      <td>0.663</td>\n",
       "      <td>649</td>\n",
       "    </tr>\n",
       "    <tr>\n",
       "      <th>21</th>\n",
       "      <td>8.00</td>\n",
       "      <td>4983</td>\n",
       "      <td>602</td>\n",
       "      <td>0.602</td>\n",
       "      <td>540</td>\n",
       "    </tr>\n",
       "    <tr>\n",
       "      <th>22</th>\n",
       "      <td>9.00</td>\n",
       "      <td>4897</td>\n",
       "      <td>2449</td>\n",
       "      <td>0.511</td>\n",
       "      <td>464</td>\n",
       "    </tr>\n",
       "    <tr>\n",
       "      <th>23</th>\n",
       "      <td>9.00</td>\n",
       "      <td>4258</td>\n",
       "      <td>4686</td>\n",
       "      <td>0.517</td>\n",
       "      <td>547</td>\n",
       "    </tr>\n",
       "    <tr>\n",
       "      <th>24</th>\n",
       "      <td>8.50</td>\n",
       "      <td>4574</td>\n",
       "      <td>2619</td>\n",
       "      <td>0.551</td>\n",
       "      <td>460</td>\n",
       "    </tr>\n",
       "    <tr>\n",
       "      <th>25</th>\n",
       "      <td>9.00</td>\n",
       "      <td>3721</td>\n",
       "      <td>4746</td>\n",
       "      <td>0.544</td>\n",
       "      <td>566</td>\n",
       "    </tr>\n",
       "    <tr>\n",
       "      <th>26</th>\n",
       "      <td>8.00</td>\n",
       "      <td>3448</td>\n",
       "      <td>5399</td>\n",
       "      <td>0.548</td>\n",
       "      <td>577</td>\n",
       "    </tr>\n",
       "    <tr>\n",
       "      <th>27</th>\n",
       "      <td>7.50</td>\n",
       "      <td>3846</td>\n",
       "      <td>9061</td>\n",
       "      <td>0.579</td>\n",
       "      <td>631</td>\n",
       "    </tr>\n",
       "    <tr>\n",
       "      <th>28</th>\n",
       "      <td>8.00</td>\n",
       "      <td>4188</td>\n",
       "      <td>5975</td>\n",
       "      <td>0.563</td>\n",
       "      <td>574</td>\n",
       "    </tr>\n",
       "    <tr>\n",
       "      <th>29</th>\n",
       "      <td>9.00</td>\n",
       "      <td>3601</td>\n",
       "      <td>4650</td>\n",
       "      <td>0.493</td>\n",
       "      <td>534</td>\n",
       "    </tr>\n",
       "    <tr>\n",
       "      <th>30</th>\n",
       "      <td>7.00</td>\n",
       "      <td>3640</td>\n",
       "      <td>6905</td>\n",
       "      <td>0.518</td>\n",
       "      <td>571</td>\n",
       "    </tr>\n",
       "    <tr>\n",
       "      <th>31</th>\n",
       "      <td>7.00</td>\n",
       "      <td>3333</td>\n",
       "      <td>6594</td>\n",
       "      <td>0.513</td>\n",
       "      <td>554</td>\n",
       "    </tr>\n",
       "    <tr>\n",
       "      <th>32</th>\n",
       "      <td>8.00</td>\n",
       "      <td>3063</td>\n",
       "      <td>6524</td>\n",
       "      <td>0.578</td>\n",
       "      <td>577</td>\n",
       "    </tr>\n",
       "    <tr>\n",
       "      <th>33</th>\n",
       "      <td>7.50</td>\n",
       "      <td>3357</td>\n",
       "      <td>4121</td>\n",
       "      <td>0.547</td>\n",
       "      <td>628</td>\n",
       "    </tr>\n",
       "    <tr>\n",
       "      <th>34</th>\n",
       "      <td>8.00</td>\n",
       "      <td>3528</td>\n",
       "      <td>3495</td>\n",
       "      <td>0.487</td>\n",
       "      <td>487</td>\n",
       "    </tr>\n",
       "    <tr>\n",
       "      <th>35</th>\n",
       "      <td>6.58</td>\n",
       "      <td>3802</td>\n",
       "      <td>7834</td>\n",
       "      <td>0.629</td>\n",
       "      <td>644</td>\n",
       "    </tr>\n",
       "    <tr>\n",
       "      <th>36</th>\n",
       "      <td>5.00</td>\n",
       "      <td>4045</td>\n",
       "      <td>17782</td>\n",
       "      <td>0.566</td>\n",
       "      <td>640</td>\n",
       "    </tr>\n",
       "    <tr>\n",
       "      <th>37</th>\n",
       "      <td>7.00</td>\n",
       "      <td>3897</td>\n",
       "      <td>6385</td>\n",
       "      <td>0.586</td>\n",
       "      <td>704</td>\n",
       "    </tr>\n",
       "    <tr>\n",
       "      <th>38</th>\n",
       "      <td>8.50</td>\n",
       "      <td>3635</td>\n",
       "      <td>3274</td>\n",
       "      <td>0.663</td>\n",
       "      <td>648</td>\n",
       "    </tr>\n",
       "    <tr>\n",
       "      <th>39</th>\n",
       "      <td>7.00</td>\n",
       "      <td>4345</td>\n",
       "      <td>3905</td>\n",
       "      <td>0.672</td>\n",
       "      <td>968</td>\n",
       "    </tr>\n",
       "    <tr>\n",
       "      <th>40</th>\n",
       "      <td>7.00</td>\n",
       "      <td>4449</td>\n",
       "      <td>4639</td>\n",
       "      <td>0.626</td>\n",
       "      <td>587</td>\n",
       "    </tr>\n",
       "    <tr>\n",
       "      <th>41</th>\n",
       "      <td>7.00</td>\n",
       "      <td>3656</td>\n",
       "      <td>3985</td>\n",
       "      <td>0.563</td>\n",
       "      <td>699</td>\n",
       "    </tr>\n",
       "    <tr>\n",
       "      <th>42</th>\n",
       "      <td>7.00</td>\n",
       "      <td>4300</td>\n",
       "      <td>3635</td>\n",
       "      <td>0.603</td>\n",
       "      <td>632</td>\n",
       "    </tr>\n",
       "    <tr>\n",
       "      <th>43</th>\n",
       "      <td>7.00</td>\n",
       "      <td>3745</td>\n",
       "      <td>2611</td>\n",
       "      <td>0.508</td>\n",
       "      <td>591</td>\n",
       "    </tr>\n",
       "    <tr>\n",
       "      <th>44</th>\n",
       "      <td>6.00</td>\n",
       "      <td>5215</td>\n",
       "      <td>2302</td>\n",
       "      <td>0.672</td>\n",
       "      <td>782</td>\n",
       "    </tr>\n",
       "    <tr>\n",
       "      <th>45</th>\n",
       "      <td>9.00</td>\n",
       "      <td>4476</td>\n",
       "      <td>3942</td>\n",
       "      <td>0.571</td>\n",
       "      <td>510</td>\n",
       "    </tr>\n",
       "    <tr>\n",
       "      <th>46</th>\n",
       "      <td>7.00</td>\n",
       "      <td>4296</td>\n",
       "      <td>4083</td>\n",
       "      <td>0.623</td>\n",
       "      <td>610</td>\n",
       "    </tr>\n",
       "    <tr>\n",
       "      <th>47</th>\n",
       "      <td>7.00</td>\n",
       "      <td>5002</td>\n",
       "      <td>9794</td>\n",
       "      <td>0.593</td>\n",
       "      <td>524</td>\n",
       "    </tr>\n",
       "  </tbody>\n",
       "</table>\n",
       "</div>"
      ],
      "text/plain": [
       "      tax  income  highway     dl  consumption\n",
       "0    9.00    3571     1976  0.525          541\n",
       "1    9.00    4092     1250  0.572          524\n",
       "2    9.00    3865     1586  0.580          561\n",
       "3    7.50    4870     2351  0.529          414\n",
       "4    8.00    4399      431  0.544          410\n",
       "5   10.00    5342     1333  0.571          457\n",
       "6    8.00    5319    11868  0.451          344\n",
       "7    8.00    5126     2138  0.553          467\n",
       "8    8.00    4447     8577  0.529          464\n",
       "9    7.00    4512     8507  0.552          498\n",
       "10   8.00    4391     5939  0.530          580\n",
       "11   7.50    5126    14186  0.525          471\n",
       "12   7.00    4817     6930  0.574          525\n",
       "13   7.00    4207     6580  0.545          508\n",
       "14   7.00    4332     8159  0.608          566\n",
       "15   7.00    4318    10340  0.586          635\n",
       "16   7.00    4206     8508  0.572          603\n",
       "17   7.00    3718     4725  0.540          714\n",
       "18   7.00    4716     5915  0.724          865\n",
       "19   8.50    4341     6010  0.677          640\n",
       "20   7.00    4593     7834  0.663          649\n",
       "21   8.00    4983      602  0.602          540\n",
       "22   9.00    4897     2449  0.511          464\n",
       "23   9.00    4258     4686  0.517          547\n",
       "24   8.50    4574     2619  0.551          460\n",
       "25   9.00    3721     4746  0.544          566\n",
       "26   8.00    3448     5399  0.548          577\n",
       "27   7.50    3846     9061  0.579          631\n",
       "28   8.00    4188     5975  0.563          574\n",
       "29   9.00    3601     4650  0.493          534\n",
       "30   7.00    3640     6905  0.518          571\n",
       "31   7.00    3333     6594  0.513          554\n",
       "32   8.00    3063     6524  0.578          577\n",
       "33   7.50    3357     4121  0.547          628\n",
       "34   8.00    3528     3495  0.487          487\n",
       "35   6.58    3802     7834  0.629          644\n",
       "36   5.00    4045    17782  0.566          640\n",
       "37   7.00    3897     6385  0.586          704\n",
       "38   8.50    3635     3274  0.663          648\n",
       "39   7.00    4345     3905  0.672          968\n",
       "40   7.00    4449     4639  0.626          587\n",
       "41   7.00    3656     3985  0.563          699\n",
       "42   7.00    4300     3635  0.603          632\n",
       "43   7.00    3745     2611  0.508          591\n",
       "44   6.00    5215     2302  0.672          782\n",
       "45   9.00    4476     3942  0.571          510\n",
       "46   7.00    4296     4083  0.623          610\n",
       "47   7.00    5002     9794  0.593          524"
      ]
     },
     "execution_count": 208,
     "metadata": {},
     "output_type": "execute_result"
    }
   ],
   "source": [
    "import numpy as np\n",
    "import pandas as pd\n",
    "\n",
    "#dataset has some column names with extra spaces. it needs to be stripped off its whitespaces\n",
    "df=pd.DataFrame()\n",
    "df=pd.read_csv('petrol.csv').rename(columns=lambda x: x.strip())\n",
    "\n",
    "df"
   ]
  },
  {
   "cell_type": "code",
   "execution_count": null,
   "metadata": {},
   "outputs": [],
   "source": []
  },
  {
   "cell_type": "code",
   "execution_count": 209,
   "metadata": {},
   "outputs": [
    {
     "data": {
      "text/html": [
       "<div>\n",
       "<style scoped>\n",
       "    .dataframe tbody tr th:only-of-type {\n",
       "        vertical-align: middle;\n",
       "    }\n",
       "\n",
       "    .dataframe tbody tr th {\n",
       "        vertical-align: top;\n",
       "    }\n",
       "\n",
       "    .dataframe thead th {\n",
       "        text-align: right;\n",
       "    }\n",
       "</style>\n",
       "<table border=\"1\" class=\"dataframe\">\n",
       "  <thead>\n",
       "    <tr style=\"text-align: right;\">\n",
       "      <th></th>\n",
       "      <th>count</th>\n",
       "      <th>mean</th>\n",
       "      <th>std</th>\n",
       "      <th>min</th>\n",
       "      <th>25%</th>\n",
       "      <th>50%</th>\n",
       "      <th>75%</th>\n",
       "      <th>max</th>\n",
       "    </tr>\n",
       "  </thead>\n",
       "  <tbody>\n",
       "    <tr>\n",
       "      <th>tax</th>\n",
       "      <td>48.0</td>\n",
       "      <td>7.668333</td>\n",
       "      <td>0.950770</td>\n",
       "      <td>5.000</td>\n",
       "      <td>7.00000</td>\n",
       "      <td>7.5000</td>\n",
       "      <td>8.12500</td>\n",
       "      <td>10.000</td>\n",
       "    </tr>\n",
       "    <tr>\n",
       "      <th>income</th>\n",
       "      <td>48.0</td>\n",
       "      <td>4241.833333</td>\n",
       "      <td>573.623768</td>\n",
       "      <td>3063.000</td>\n",
       "      <td>3739.00000</td>\n",
       "      <td>4298.0000</td>\n",
       "      <td>4578.75000</td>\n",
       "      <td>5342.000</td>\n",
       "    </tr>\n",
       "    <tr>\n",
       "      <th>highway</th>\n",
       "      <td>48.0</td>\n",
       "      <td>5565.416667</td>\n",
       "      <td>3491.507166</td>\n",
       "      <td>431.000</td>\n",
       "      <td>3110.25000</td>\n",
       "      <td>4735.5000</td>\n",
       "      <td>7156.00000</td>\n",
       "      <td>17782.000</td>\n",
       "    </tr>\n",
       "    <tr>\n",
       "      <th>dl</th>\n",
       "      <td>48.0</td>\n",
       "      <td>0.570333</td>\n",
       "      <td>0.055470</td>\n",
       "      <td>0.451</td>\n",
       "      <td>0.52975</td>\n",
       "      <td>0.5645</td>\n",
       "      <td>0.59525</td>\n",
       "      <td>0.724</td>\n",
       "    </tr>\n",
       "    <tr>\n",
       "      <th>consumption</th>\n",
       "      <td>48.0</td>\n",
       "      <td>576.770833</td>\n",
       "      <td>111.885816</td>\n",
       "      <td>344.000</td>\n",
       "      <td>509.50000</td>\n",
       "      <td>568.5000</td>\n",
       "      <td>632.75000</td>\n",
       "      <td>968.000</td>\n",
       "    </tr>\n",
       "  </tbody>\n",
       "</table>\n",
       "</div>"
      ],
      "text/plain": [
       "             count         mean          std       min         25%        50%  \\\n",
       "tax           48.0     7.668333     0.950770     5.000     7.00000     7.5000   \n",
       "income        48.0  4241.833333   573.623768  3063.000  3739.00000  4298.0000   \n",
       "highway       48.0  5565.416667  3491.507166   431.000  3110.25000  4735.5000   \n",
       "dl            48.0     0.570333     0.055470     0.451     0.52975     0.5645   \n",
       "consumption   48.0   576.770833   111.885816   344.000   509.50000   568.5000   \n",
       "\n",
       "                    75%        max  \n",
       "tax             8.12500     10.000  \n",
       "income       4578.75000   5342.000  \n",
       "highway      7156.00000  17782.000  \n",
       "dl              0.59525      0.724  \n",
       "consumption   632.75000    968.000  "
      ]
     },
     "execution_count": 209,
     "metadata": {},
     "output_type": "execute_result"
    }
   ],
   "source": [
    "df.describe().T\n",
    "\n",
    "#from the describe output, we infer that the mean and median for highway is too different. Presence of outliers \n",
    "#in highway column."
   ]
  },
  {
   "cell_type": "markdown",
   "metadata": {},
   "source": [
    "# Question 2 - Cap outliers \n",
    "\n",
    "Find the outliers and cap them. (Use (Q1 - 1.5 * IQR) as the minimum cap and (Q3 + 1.5 * IQR) as the max cap. The decision criteria is you should consider the datapoints which only falls within this range. The data points which fall outside this range are outliers and the entire row needs to be removed"
   ]
  },
  {
   "cell_type": "code",
   "execution_count": 71,
   "metadata": {},
   "outputs": [],
   "source": [
    "#def remove_outlier(df_in, col_name):\n",
    "#    q1 = df_in[col_name].quantile(0.25)\n",
    "#    q3 = df_in[col_name].quantile(0.75)\n",
    "#    iqr = q3-q1 #Interquartile range\n",
    "#    fence_low  = q1-1.5*iqr\n",
    "#    fence_high = q3+1.5*iqr\n",
    "#    df_out = df_in.loc[(df_in[col_name] > fence_low) & (df_in[col_name] < fence_high)]\n",
    "#    return df_out\n",
    "#\n",
    "# for col in df.columns:\n",
    "#     df_out=remove_outlier(df,col)\n",
    "    \n",
    "# df_out.shape\n",
    "# df_out"
   ]
  },
  {
   "cell_type": "code",
   "execution_count": 210,
   "metadata": {},
   "outputs": [
    {
     "name": "stdout",
     "output_type": "stream",
     "text": [
      "tax               1.1250\n",
      "income          839.7500\n",
      "highway        4045.7500\n",
      "dl                0.0655\n",
      "consumption     123.2500\n",
      "dtype: float64\n",
      "     tax  income  highway     dl  consumption\n",
      "0   9.00    3571     1976  0.525          541\n",
      "1   9.00    4092     1250  0.572          524\n",
      "2   9.00    3865     1586  0.580          561\n",
      "3   7.50    4870     2351  0.529          414\n",
      "4   8.00    4399      431  0.544          410\n",
      "6   8.00    5319    11868  0.451          344\n",
      "7   8.00    5126     2138  0.553          467\n",
      "8   8.00    4447     8577  0.529          464\n",
      "9   7.00    4512     8507  0.552          498\n",
      "10  8.00    4391     5939  0.530          580\n",
      "12  7.00    4817     6930  0.574          525\n",
      "13  7.00    4207     6580  0.545          508\n",
      "14  7.00    4332     8159  0.608          566\n",
      "15  7.00    4318    10340  0.586          635\n",
      "16  7.00    4206     8508  0.572          603\n",
      "17  7.00    3718     4725  0.540          714\n",
      "19  8.50    4341     6010  0.677          640\n",
      "20  7.00    4593     7834  0.663          649\n",
      "21  8.00    4983      602  0.602          540\n",
      "22  9.00    4897     2449  0.511          464\n",
      "23  9.00    4258     4686  0.517          547\n",
      "24  8.50    4574     2619  0.551          460\n",
      "25  9.00    3721     4746  0.544          566\n",
      "26  8.00    3448     5399  0.548          577\n",
      "27  7.50    3846     9061  0.579          631\n",
      "28  8.00    4188     5975  0.563          574\n",
      "29  9.00    3601     4650  0.493          534\n",
      "30  7.00    3640     6905  0.518          571\n",
      "31  7.00    3333     6594  0.513          554\n",
      "32  8.00    3063     6524  0.578          577\n",
      "33  7.50    3357     4121  0.547          628\n",
      "34  8.00    3528     3495  0.487          487\n",
      "35  6.58    3802     7834  0.629          644\n",
      "37  7.00    3897     6385  0.586          704\n",
      "38  8.50    3635     3274  0.663          648\n",
      "40  7.00    4449     4639  0.626          587\n",
      "41  7.00    3656     3985  0.563          699\n",
      "42  7.00    4300     3635  0.603          632\n",
      "43  7.00    3745     2611  0.508          591\n",
      "44  6.00    5215     2302  0.672          782\n",
      "45  9.00    4476     3942  0.571          510\n",
      "46  7.00    4296     4083  0.623          610\n",
      "47  7.00    5002     9794  0.593          524\n",
      "(43, 5)\n"
     ]
    }
   ],
   "source": [
    "df_o1=df\n",
    "Q1 = df_o1.quantile(0.25)\n",
    "Q3 = df_o1.quantile(0.75)\n",
    "IQR = Q3 - Q1\n",
    "print(IQR)\n",
    "df_out = df_o1[~((df_o1 < (Q1 - 1.5 * IQR)) |(df_o1 > (Q3 + 1.5 * IQR))).any(axis=1)]\n",
    "print(df_out)\n",
    "print(df_out.shape)"
   ]
  },
  {
   "cell_type": "markdown",
   "metadata": {},
   "source": [
    "# Question 3 - Independent variables and collinearity \n",
    "Which attributes seems to have stronger association with the dependent variable consumption?"
   ]
  },
  {
   "cell_type": "code",
   "execution_count": 211,
   "metadata": {},
   "outputs": [],
   "source": [
    "# importing ploting libraries\n",
    "import matplotlib.pyplot as plt   \n",
    "import matplotlib.style\n",
    "plt.style.use('classic')\n",
    "\n",
    "#importing seaborn for statistical plots\n",
    "import seaborn as sns"
   ]
  },
  {
   "cell_type": "code",
   "execution_count": 212,
   "metadata": {},
   "outputs": [
    {
     "data": {
      "text/plain": [
       "<seaborn.axisgrid.PairGrid at 0xf7c5dd8>"
      ]
     },
     "execution_count": 212,
     "metadata": {},
     "output_type": "execute_result"
    },
    {
     "data": {
      "image/png": "[encoded data removed]",
      "text/plain": [
       "<Figure size 1000x1000 with 30 Axes>"
      ]
     },
     "metadata": {},
     "output_type": "display_data"
    }
   ],
   "source": [
    "sns.pairplot(df_out, diag_kind='kde')"
   ]
  },
  {
   "cell_type": "code",
   "execution_count": null,
   "metadata": {},
   "outputs": [],
   "source": [
    "#Observing the above correlation values between all the variables, we can see that there is stronger association\n",
    "#between the number of drivers and consumption. And comparatively tax has an association in a negative way.\n",
    "#Insights : As tax increases the consumption decreases. As number of drivers is more consumption is more"
   ]
  },
  {
   "cell_type": "markdown",
   "metadata": {},
   "source": [
    "### Observing the above correlation values between all the variables, we can see that there is stronger association between the number of drivers and consumption. And comparatively tax has an association in a negative way. \n",
    "Insights :\n",
    "As tax increases the consumption decreases.\n",
    "As number of drivers is more consumption is more"
   ]
  },
  {
   "cell_type": "markdown",
   "metadata": {},
   "source": [
    "# Question 4 - Transform the dataset \n",
    "Divide the data into feature(X) and target(Y) sets."
   ]
  },
  {
   "cell_type": "code",
   "execution_count": 213,
   "metadata": {},
   "outputs": [
    {
     "name": "stdout",
     "output_type": "stream",
     "text": [
      "     tax     dl\n",
      "0   9.00  0.525\n",
      "1   9.00  0.572\n",
      "2   9.00  0.580\n",
      "3   7.50  0.529\n",
      "4   8.00  0.544\n",
      "6   8.00  0.451\n",
      "7   8.00  0.553\n",
      "8   8.00  0.529\n",
      "9   7.00  0.552\n",
      "10  8.00  0.530\n",
      "12  7.00  0.574\n",
      "13  7.00  0.545\n",
      "14  7.00  0.608\n",
      "15  7.00  0.586\n",
      "16  7.00  0.572\n",
      "17  7.00  0.540\n",
      "19  8.50  0.677\n",
      "20  7.00  0.663\n",
      "21  8.00  0.602\n",
      "22  9.00  0.511\n",
      "23  9.00  0.517\n",
      "24  8.50  0.551\n",
      "25  9.00  0.544\n",
      "26  8.00  0.548\n",
      "27  7.50  0.579\n",
      "28  8.00  0.563\n",
      "29  9.00  0.493\n",
      "30  7.00  0.518\n",
      "31  7.00  0.513\n",
      "32  8.00  0.578\n",
      "33  7.50  0.547\n",
      "34  8.00  0.487\n",
      "35  6.58  0.629\n",
      "37  7.00  0.586\n",
      "38  8.50  0.663\n",
      "40  7.00  0.626\n",
      "41  7.00  0.563\n",
      "42  7.00  0.603\n",
      "43  7.00  0.508\n",
      "44  6.00  0.672\n",
      "45  9.00  0.571\n",
      "46  7.00  0.623\n",
      "47  7.00  0.593\n",
      "    consumption\n",
      "0           541\n",
      "1           524\n",
      "2           561\n",
      "3           414\n",
      "4           410\n",
      "6           344\n",
      "7           467\n",
      "8           464\n",
      "9           498\n",
      "10          580\n",
      "12          525\n",
      "13          508\n",
      "14          566\n",
      "15          635\n",
      "16          603\n",
      "17          714\n",
      "19          640\n",
      "20          649\n",
      "21          540\n",
      "22          464\n",
      "23          547\n",
      "24          460\n",
      "25          566\n",
      "26          577\n",
      "27          631\n",
      "28          574\n",
      "29          534\n",
      "30          571\n",
      "31          554\n",
      "32          577\n",
      "33          628\n",
      "34          487\n",
      "35          644\n",
      "37          704\n",
      "38          648\n",
      "40          587\n",
      "41          699\n",
      "42          632\n",
      "43          591\n",
      "44          782\n",
      "45          510\n",
      "46          610\n",
      "47          524\n"
     ]
    }
   ],
   "source": [
    "df_out\n",
    "#print(df_out.columns)\n",
    "X = df_out[['tax','dl']]\n",
    "#X.remove('income',axis=1)\n",
    "#X=X.filter(['dl','tax'],axis=1)\n",
    "#Y=df_out.iloc[:,4:5]\n",
    "Y=df_out[['consumption']]\n",
    "print(X)\n",
    "print(Y)\n"
   ]
  },
  {
   "cell_type": "code",
   "execution_count": null,
   "metadata": {},
   "outputs": [],
   "source": []
  },
  {
   "cell_type": "markdown",
   "metadata": {},
   "source": [
    "# Question 5 - Split data into train, test sets \n",
    "Divide the data into training and test sets with 80-20 split using scikit-learn. Print the shapes of training and test feature sets."
   ]
  },
  {
   "cell_type": "code",
   "execution_count": 179,
   "metadata": {},
   "outputs": [],
   "source": [
    "from sklearn.model_selection import train_test_split"
   ]
  },
  {
   "cell_type": "code",
   "execution_count": 214,
   "metadata": {},
   "outputs": [
    {
     "name": "stdout",
     "output_type": "stream",
     "text": [
      "X_train shape :  (34, 2)\n",
      "Y_train shape :  (34, 1)\n",
      "X_test shape :  (9, 2)\n",
      "Y_test shape :  (9, 1)\n"
     ]
    }
   ],
   "source": [
    "X_train, X_test, Y_train, Y_test = train_test_split(X, Y, test_size=0.20 , random_state=1)\n",
    "print(\"X_train shape : \",X_train.shape)\n",
    "print(\"Y_train shape : \",Y_train.shape)\n",
    "print(\"X_test shape : \",X_test.shape)\n",
    "print(\"Y_test shape : \",Y_test.shape)"
   ]
  },
  {
   "cell_type": "markdown",
   "metadata": {},
   "source": [
    "# Question 6 - Build Model \n",
    "Estimate the coefficients for each input feature. Construct and display a dataframe with coefficients and X.columns as columns"
   ]
  },
  {
   "cell_type": "code",
   "execution_count": 215,
   "metadata": {},
   "outputs": [
    {
     "name": "stdout",
     "output_type": "stream",
     "text": [
      "The coefficient for for tax is -30.709242547547255\n",
      "The coefficient for for dl is 892.8862087487333\n",
      "The intercept for our model is 292.55096524614885\n"
     ]
    }
   ],
   "source": [
    "# Import Linear Regression machine learning library\n",
    "from sklearn.linear_model import LinearRegression\n",
    "\n",
    "regression_model = LinearRegression()\n",
    "regression_model.fit(X_train, Y_train)\n",
    "for idx, col_name in enumerate(X_train.columns):\n",
    "    print(\"The coefficient for for {} is {}\".format(col_name, regression_model.coef_[0][idx]))\n",
    "    \n",
    "intercept = regression_model.intercept_[0]\n",
    "\n",
    "print(\"The intercept for our model is {}\".format(intercept))"
   ]
  },
  {
   "cell_type": "code",
   "execution_count": 216,
   "metadata": {},
   "outputs": [
    {
     "data": {
      "text/plain": [
       "[<matplotlib.lines.Line2D at 0x1051f048>,\n",
       " <matplotlib.lines.Line2D at 0x1051f198>]"
      ]
     },
     "execution_count": 216,
     "metadata": {},
     "output_type": "execute_result"
    },
    {
     "data": {
      "image/png": "[encoded data removed]",
      "text/plain": [
       "<Figure size 640x480 with 1 Axes>"
      ]
     },
     "metadata": {},
     "output_type": "display_data"
    }
   ],
   "source": [
    "import matplotlib.pyplot as plt\n",
    "plt.plot(X,regression_model.coef_[0]*X+intercept)"
   ]
  },
  {
   "cell_type": "markdown",
   "metadata": {},
   "source": [
    "# R-Square "
   ]
  },
  {
   "cell_type": "markdown",
   "metadata": {},
   "source": [
    "# Question 7 - Evaluate the model \n",
    "Calculate the accuracy score for the above model."
   ]
  },
  {
   "cell_type": "code",
   "execution_count": 217,
   "metadata": {},
   "outputs": [
    {
     "name": "stdout",
     "output_type": "stream",
     "text": [
      "Score for X_train, Y_train :   0.4657867429910154\n"
     ]
    }
   ],
   "source": [
    "print(\"Score for X_train, Y_train :  \",regression_model.score(X_train, Y_train))"
   ]
  },
  {
   "cell_type": "code",
   "execution_count": 218,
   "metadata": {},
   "outputs": [
    {
     "name": "stdout",
     "output_type": "stream",
     "text": [
      "Score for X_test, Y_test :   0.2876056314158517\n"
     ]
    }
   ],
   "source": [
    "print(\"Score for X_test, Y_test :  \",regression_model.score(X_test, Y_test))"
   ]
  },
  {
   "cell_type": "code",
   "execution_count": 220,
   "metadata": {},
   "outputs": [
    {
     "name": "stdout",
     "output_type": "stream",
     "text": [
      "Liner Regression MSE: 4764.2473\n",
      "Liner Regression RMSE: 69.0235\n"
     ]
    }
   ],
   "source": [
    "import numpy as np\n",
    "from sklearn.metrics import mean_squared_error\n",
    "Y_pred=regression_model.predict(X_test)\n",
    "lin_mse = mean_squared_error(Y_pred, Y_test)\n",
    "lin_rmse = np.sqrt(lin_mse)\n",
    "print('Liner Regression MSE: %.4f' % lin_mse)\n",
    "print('Liner Regression RMSE: %.4f' % lin_rmse)"
   ]
  },
  {
   "cell_type": "markdown",
   "metadata": {},
   "source": [
    "# Question 8: Repeat the same Multi linear regression modelling by adding both Income and Highway features\n",
    "Find R2 \n"
   ]
  },
  {
   "cell_type": "code",
   "execution_count": 221,
   "metadata": {},
   "outputs": [
    {
     "name": "stdout",
     "output_type": "stream",
     "text": [
      "     tax  income  highway     dl\n",
      "0   9.00    3571     1976  0.525\n",
      "1   9.00    4092     1250  0.572\n",
      "2   9.00    3865     1586  0.580\n",
      "3   7.50    4870     2351  0.529\n",
      "4   8.00    4399      431  0.544\n",
      "6   8.00    5319    11868  0.451\n",
      "7   8.00    5126     2138  0.553\n",
      "8   8.00    4447     8577  0.529\n",
      "9   7.00    4512     8507  0.552\n",
      "10  8.00    4391     5939  0.530\n",
      "12  7.00    4817     6930  0.574\n",
      "13  7.00    4207     6580  0.545\n",
      "14  7.00    4332     8159  0.608\n",
      "15  7.00    4318    10340  0.586\n",
      "16  7.00    4206     8508  0.572\n",
      "17  7.00    3718     4725  0.540\n",
      "19  8.50    4341     6010  0.677\n",
      "20  7.00    4593     7834  0.663\n",
      "21  8.00    4983      602  0.602\n",
      "22  9.00    4897     2449  0.511\n",
      "23  9.00    4258     4686  0.517\n",
      "24  8.50    4574     2619  0.551\n",
      "25  9.00    3721     4746  0.544\n",
      "26  8.00    3448     5399  0.548\n",
      "27  7.50    3846     9061  0.579\n",
      "28  8.00    4188     5975  0.563\n",
      "29  9.00    3601     4650  0.493\n",
      "30  7.00    3640     6905  0.518\n",
      "31  7.00    3333     6594  0.513\n",
      "32  8.00    3063     6524  0.578\n",
      "33  7.50    3357     4121  0.547\n",
      "34  8.00    3528     3495  0.487\n",
      "35  6.58    3802     7834  0.629\n",
      "37  7.00    3897     6385  0.586\n",
      "38  8.50    3635     3274  0.663\n",
      "40  7.00    4449     4639  0.626\n",
      "41  7.00    3656     3985  0.563\n",
      "42  7.00    4300     3635  0.603\n",
      "43  7.00    3745     2611  0.508\n",
      "44  6.00    5215     2302  0.672\n",
      "45  9.00    4476     3942  0.571\n",
      "46  7.00    4296     4083  0.623\n",
      "47  7.00    5002     9794  0.593\n",
      "    consumption\n",
      "0           541\n",
      "1           524\n",
      "2           561\n",
      "3           414\n",
      "4           410\n",
      "6           344\n",
      "7           467\n",
      "8           464\n",
      "9           498\n",
      "10          580\n",
      "12          525\n",
      "13          508\n",
      "14          566\n",
      "15          635\n",
      "16          603\n",
      "17          714\n",
      "19          640\n",
      "20          649\n",
      "21          540\n",
      "22          464\n",
      "23          547\n",
      "24          460\n",
      "25          566\n",
      "26          577\n",
      "27          631\n",
      "28          574\n",
      "29          534\n",
      "30          571\n",
      "31          554\n",
      "32          577\n",
      "33          628\n",
      "34          487\n",
      "35          644\n",
      "37          704\n",
      "38          648\n",
      "40          587\n",
      "41          699\n",
      "42          632\n",
      "43          591\n",
      "44          782\n",
      "45          510\n",
      "46          610\n",
      "47          524\n"
     ]
    }
   ],
   "source": [
    "df_out\n",
    "X = df_out[['tax','income','highway','dl']]\n",
    "Y=df_out[['consumption']]\n",
    "print(X)\n",
    "print(Y)"
   ]
  },
  {
   "cell_type": "code",
   "execution_count": 222,
   "metadata": {},
   "outputs": [],
   "source": [
    "from sklearn.model_selection import train_test_split"
   ]
  },
  {
   "cell_type": "code",
   "execution_count": 223,
   "metadata": {},
   "outputs": [
    {
     "name": "stdout",
     "output_type": "stream",
     "text": [
      "X_train shape :  (34, 4)\n",
      "Y_train shape :  (34, 1)\n",
      "X_test shape :  (9, 4)\n",
      "Y_test shape :  (9, 1)\n"
     ]
    }
   ],
   "source": [
    "X_train, X_test, Y_train, Y_test = train_test_split(X, Y, test_size=0.20 , random_state=1)\n",
    "print(\"X_train shape : \",X_train.shape)\n",
    "print(\"Y_train shape : \",Y_train.shape)\n",
    "print(\"X_test shape : \",X_test.shape)\n",
    "print(\"Y_test shape : \",Y_test.shape)"
   ]
  },
  {
   "cell_type": "code",
   "execution_count": 224,
   "metadata": {},
   "outputs": [
    {
     "data": {
      "text/plain": [
       "LinearRegression(copy_X=True, fit_intercept=True, n_jobs=1, normalize=False)"
      ]
     },
     "execution_count": 224,
     "metadata": {},
     "output_type": "execute_result"
    }
   ],
   "source": [
    "# Import Linear Regression machine learning library\n",
    "from sklearn.linear_model import LinearRegression\n",
    "\n",
    "regression_model = LinearRegression()\n",
    "regression_model.fit(X_train, Y_train)\n"
   ]
  },
  {
   "cell_type": "code",
   "execution_count": 225,
   "metadata": {},
   "outputs": [
    {
     "name": "stdout",
     "output_type": "stream",
     "text": [
      "Score for X_train, Y_train :   0.640762294132101\n"
     ]
    }
   ],
   "source": [
    "print(\"Score for X_train, Y_train :  \",regression_model.score(X_train, Y_train))"
   ]
  },
  {
   "cell_type": "code",
   "execution_count": 226,
   "metadata": {},
   "outputs": [
    {
     "name": "stdout",
     "output_type": "stream",
     "text": [
      "Score for X_test, Y_test :   0.6930212207091794\n"
     ]
    }
   ],
   "source": [
    "print(\"Score for X_test, Y_test :  \",regression_model.score(X_test, Y_test))"
   ]
  },
  {
   "cell_type": "code",
   "execution_count": 227,
   "metadata": {},
   "outputs": [
    {
     "name": "stdout",
     "output_type": "stream",
     "text": [
      "Liner Regression MSE: 2052.9680\n",
      "Liner Regression RMSE: 45.3097\n"
     ]
    }
   ],
   "source": [
    "import numpy as np\n",
    "from sklearn.metrics import mean_squared_error\n",
    "Y_pred=regression_model.predict(X_test)\n",
    "lin_mse = mean_squared_error(Y_pred, Y_test)\n",
    "lin_rmse = np.sqrt(lin_mse)\n",
    "print('Liner Regression MSE: %.4f' % lin_mse)\n",
    "print('Liner Regression RMSE: %.4f' % lin_rmse)"
   ]
  },
  {
   "cell_type": "code",
   "execution_count": null,
   "metadata": {},
   "outputs": [],
   "source": [
    "#R2 has come down after adding the two other attributes"
   ]
  },
  {
   "cell_type": "markdown",
   "metadata": {},
   "source": [
    "# Question 9: Print the coefficients of the multilinear regression model"
   ]
  },
  {
   "cell_type": "code",
   "execution_count": 228,
   "metadata": {},
   "outputs": [
    {
     "name": "stdout",
     "output_type": "stream",
     "text": [
      "The coefficient for for tax is -39.4115836214154\n",
      "The coefficient for for income is -0.06262814005687865\n",
      "The coefficient for for highway is -0.0030219870395790313\n",
      "The coefficient for for dl is 950.882744143078\n",
      "The intercept for our model is 607.7189089086926\n"
     ]
    }
   ],
   "source": [
    "for idx, col_name in enumerate(X_train.columns):\n",
    "    print(\"The coefficient for for {} is {}\".format(col_name, regression_model.coef_[0][idx]))\n",
    "    \n",
    "intercept = regression_model.intercept_[0]\n",
    "\n",
    "print(\"The intercept for our model is {}\".format(intercept))"
   ]
  },
  {
   "cell_type": "code",
   "execution_count": 203,
   "metadata": {},
   "outputs": [
    {
     "data": {
      "text/plain": [
       "[<matplotlib.lines.Line2D at 0xf694a58>,\n",
       " <matplotlib.lines.Line2D at 0xf694c50>,\n",
       " <matplotlib.lines.Line2D at 0xf694da0>,\n",
       " <matplotlib.lines.Line2D at 0xf694ef0>]"
      ]
     },
     "execution_count": 203,
     "metadata": {},
     "output_type": "execute_result"
    },
    {
     "data": {
      "image/png": "[encoded data removed]",
      "text/plain": [
       "<Figure size 640x480 with 1 Axes>"
      ]
     },
     "metadata": {},
     "output_type": "display_data"
    }
   ],
   "source": [
    "import matplotlib.pyplot as plt\n",
    "plt.plot(X,regression_model.coef_[0]*X+intercept)"
   ]
  },
  {
   "cell_type": "markdown",
   "metadata": {},
   "source": [
    "# Question 10 \n",
    "In one or two sentences give reasoning on R-Square on the basis of above findings\n",
    "Answer"
   ]
  },
  {
   "cell_type": "markdown",
   "metadata": {},
   "source": [
    "### *R squared value increase if we increase the number of independent variables to our analysis"
   ]
  },
  {
   "cell_type": "code",
   "execution_count": null,
   "metadata": {},
   "outputs": [],
   "source": [
    "# The finding in this case is when we increased the number of attributes, the R2 value decreased. Not sure why that happened. \n",
    "#Need more clarity on this during classroom session"
   ]
  }
 ],
 "metadata": {
  "kernelspec": {
   "display_name": "Python 3",
   "language": "python",
   "name": "python3"
  },
  "language_info": {
   "codemirror_mode": {
    "name": "ipython",
    "version": 3
   },
   "file_extension": ".py",
   "mimetype": "text/x-python",
   "name": "python",
   "nbconvert_exporter": "python",
   "pygments_lexer": "ipython3",
   "version": "3.6.5"
  }
 },
 "nbformat": 4,
 "nbformat_minor": 2
}
